{
 "cells": [
  {
   "cell_type": "code",
   "execution_count": 12,
   "metadata": {
    "collapsed": true,
    "pycharm": {
     "is_executing": false,
     "name": "#%%\n"
    }
   },
   "outputs": [],
   "source": [
    "import pickle\n",
    "from numpy import dot\n",
    "from numpy.linalg import norm\n",
    "\n",
    "sasho = pickle.load(open('sasho_glove_vectors_for_cosine.pickle', 'rb'))\n",
    "utah = pickle.load(open('utah_glove_vectors_for_cosine.pickle', 'rb'))\n",
    "keys_sasho = set(sasho[0].keys())\n",
    "keys_utah = set(utah[0].keys())\n",
    "intersection = keys_sasho & keys_utah"
   ]
  },
  {
   "cell_type": "code",
   "execution_count": 13,
   "outputs": [
    {
     "name": "stdout",
     "text": [
      "{'HTTP', 'Base', 'for', 'compute', 'to', 'sync', 'len:', 'use:', 'at', 'The', 'deallocate', '<*>', 'Re-created', 'remove:', '<unk>', 'database', 'count', 'any', 'has', 'base', 'updated', 'successfully.', 'time:', 'Error', '<*>HTTP<*>status:', 'Failed', 'server', 'match.', 'VM', 'file', 'thrown:', 'During', 'Instance', 'Took', 'host', 'Running', 'or', 'a', 'this', '(Lifecycle', 'sync_power_state', 'in', 'token', 'InstanceList.', 'instance', 'Deletion', 'too', 'Event)', 'pending', 'did', 'Terminating', 'instance.', 'Creating', 'young', '<*>.<*>', 'network', 'Unable', 'seconds', 'the', 'while', 'Successfully', 'is', 'build', 'supported', 'swap', 'from', 'memory', 'not', 'of', 'on', 'image', 'Attempting', 'its', 'MB', 'node', 'exception', 'disk'}\n"
     ],
     "output_type": "stream"
    }
   ],
   "source": [
    "print(intersection)\n",
    "sasho_vectors_intersecting = []\n",
    "utah_vectors_intersecting = []\n",
    "for intersecting_word in intersection:\n",
    "    sasho_vectors_intersecting.append(tuple((intersecting_word, sasho[1][sasho[0].get(intersecting_word)])))\n",
    "    utah_vectors_intersecting.append(tuple((intersecting_word, utah[1][utah[0].get(intersecting_word)])))\n",
    "    \n",
    "cosine_distances = []\n",
    "for sa, ut in zip (sasho_vectors_intersecting, utah_vectors_intersecting):\n",
    "    assert sa[0] == ut[0], \"strings from intersection should be the same, something is wrong!\"\n",
    "    cos_sim = dot(sa[1], ut[1]) / (norm(sa[1])*norm(ut[1]))\n",
    "    cosine_distances.append(tuple((sa[0], cos_sim)))"
   ],
   "metadata": {
    "collapsed": false,
    "pycharm": {
     "name": "#%%\n",
     "is_executing": false
    }
   }
  },
  {
   "cell_type": "code",
   "execution_count": 14,
   "outputs": [],
   "source": [
    "cosines_sorted = sorted(cosine_distances, key=lambda tup: tup[1])"
   ],
   "metadata": {
    "collapsed": false,
    "pycharm": {
     "name": "#%%\n",
     "is_executing": false
    }
   }
  }
 ],
 "metadata": {
  "kernelspec": {
   "display_name": "Python 3",
   "language": "python",
   "name": "python3"
  },
  "language_info": {
   "codemirror_mode": {
    "name": "ipython",
    "version": 2
   },
   "file_extension": ".py",
   "mimetype": "text/x-python",
   "name": "python",
   "nbconvert_exporter": "python",
   "pygments_lexer": "ipython2",
   "version": "2.7.6"
  },
  "pycharm": {
   "stem_cell": {
    "cell_type": "raw",
    "source": [],
    "metadata": {
     "collapsed": false
    }
   }
  }
 },
 "nbformat": 4,
 "nbformat_minor": 0
}