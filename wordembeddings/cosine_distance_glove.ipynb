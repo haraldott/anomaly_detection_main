{
 "cells": [
  {
   "cell_type": "code",
   "execution_count": 1,
   "metadata": {
    "collapsed": true,
    "pycharm": {
     "is_executing": false,
     "name": "#%%\n"
    }
   },
   "outputs": [],
   "source": [
    "import pickle\n",
    "from scipy.spatial.distance import cosine\n",
    "\n",
    "sasho = pickle.load(open('sasho_glove_vectors_for_cosine.pickle', 'rb'))\n",
    "utah = pickle.load(open('utah_glove_vectors_for_cosine.pickle', 'rb'))\n",
    "keys_sasho = set(sasho[0].keys())\n",
    "keys_utah = set(utah[0].keys())\n",
    "intersection = keys_sasho & keys_utah"
   ]
  },
  {
   "cell_type": "code",
   "execution_count": 2,
   "outputs": [
    {
     "name": "stdout",
     "text": [
      "{'Unable', 'deallocate', 'swap', 'sync', 'MB', 'while', 'to', 'on', 'network', 'at', 'Re-created', 'node', 'any', 'use:', 'updated', 'from', 'InstanceList.', 'remove:', 'Instance', 'memory', '<*>.<*>', 'file', 'During', 'Attempting', 'Took', 'supported', 'Terminating', 'Deletion', 'seconds', 'len:', 'not', 'match.', 'token', 'Base', 'thrown:', 'Creating', 'disk', 'sync_power_state', 'the', '<*>', 'is', '<unk>', 'build', 'in', 'of', 'or', 'database', 'successfully.', 'Successfully', 'this', 'for', 'VM', 'server', 'compute', 'Error', 'pending', 'a', 'did', '<*>HTTP<*>status:', 'Running', 'too', 'its', 'count', 'host', 'HTTP', 'The', 'instance.', 'base', 'has', 'young', 'exception', '(Lifecycle', 'image', 'Failed', 'Event)', 'time:', 'instance'}\n"
     ],
     "output_type": "stream"
    }
   ],
   "source": [
    "print(intersection)\n",
    "sasho_vectors_intersecting = []\n",
    "utah_vectors_intersecting = []\n",
    "for intersecting_word in intersection:\n",
    "    sasho_vectors_intersecting.append(tuple((intersecting_word, sasho[1][sasho[0].get(intersecting_word)])))\n",
    "    utah_vectors_intersecting.append(tuple((intersecting_word, utah[1][utah[0].get(intersecting_word)])))\n",
    "    \n",
    "cosine_distances_with_scipy = []\n",
    "for sa, ut in zip (sasho_vectors_intersecting, utah_vectors_intersecting):\n",
    "    assert sa[0] == ut[0], \"strings from intersection should be the same, something is wrong!\"\n",
    "    cosine_distances_with_scipy.append(tuple((sa[0], cosine(sa[1], ut[1]))))\n"
   ],
   "metadata": {
    "collapsed": false,
    "pycharm": {
     "name": "#%%\n",
     "is_executing": false
    }
   }
  },
  {
   "cell_type": "code",
   "execution_count": 3,
   "outputs": [
    {
     "name": "stdout",
     "text": [
      "Top 10\ncount 0.8314712061161249\ndid 0.8469377892564517\nSuccessfully 0.8559651861913216\nfrom 0.8779102481763086\nany 0.8793870676730696\ntime: 0.8853834545211\n<*> 0.9020959480643646\na 0.9090148971759169\nimage 0.9179287134801912\n\nBottom 10\nor 1.0949740579590554\nRe-created 1.1193950872351477\nexception 1.1211730747727437\ninstance 1.1354200617600863\nHTTP 1.1376696859469038\nto 1.1455808255253885\nAttempting 1.1520918128714082\ncompute 1.1805686703326006\nmatch. 1.18856704538338\n"
     ],
     "output_type": "stream"
    }
   ],
   "source": [
    "cos_scipy_sorted = sorted(cosine_distances_with_scipy, key=lambda tup: tup[1])\n",
    "for i, val in enumerate(cos_scipy_sorted):\n",
    "    if i == 0: print(\"Top 10\") \n",
    "    if i == len(cos_scipy_sorted)-10: print(\"\\nBottom 10\")\n",
    "    if 0 < i < 10 or len(cos_scipy_sorted)-10 < i < len(cos_scipy_sorted):\n",
    "        print(\"{} {}\".format(val[0], val[1]))"
   ],
   "metadata": {
    "collapsed": false,
    "pycharm": {
     "name": "#%%\n",
     "is_executing": false
    }
   }
  }
 ],
 "metadata": {
  "kernelspec": {
   "display_name": "Python 3",
   "language": "python",
   "name": "python3"
  },
  "language_info": {
   "codemirror_mode": {
    "name": "ipython",
    "version": 2
   },
   "file_extension": ".py",
   "mimetype": "text/x-python",
   "name": "python",
   "nbconvert_exporter": "python",
   "pygments_lexer": "ipython2",
   "version": "2.7.6"
  },
  "pycharm": {
   "stem_cell": {
    "cell_type": "raw",
    "source": [],
    "metadata": {
     "collapsed": false
    }
   }
  }
 },
 "nbformat": 4,
 "nbformat_minor": 0
}