{
 "cells": [
  {
   "cell_type": "code",
   "execution_count": 1,
   "metadata": {
    "pycharm": {
     "is_executing": false,
     "name": "#%%\n"
    }
   },
   "outputs": [],
   "source": [
    "import pickle\n",
    "from scipy.spatial.distance import cosine\n",
    "from wordembeddings.transform_bert import dump_word_vectors\n",
    "\n",
    "sasho_word_vectors_location = 'vectors_for_cosine_distance/sasho_bert_vectors_for_cosine.pickle'\n",
    "utah_word_vectors_location = 'vectors_for_cosine_distance/utah_bert_vectors_for_cosine.pickle'\n",
    "\n",
    "dump_word_vectors(templates_location='../data/openstack/sasho/parsed/logs_aggregated_full.csv_templates',\n",
    "                  word_embeddings_location=sasho_word_vectors_location,\n",
    "                  bert_model='finetuning-models')\n",
    "dump_word_vectors(templates_location='../data/openstack/utah/parsed/openstack_18k_plus_52k_merged_templates',\n",
    "                  word_embeddings_location=utah_word_vectors_location,\n",
    "                  bert_model='finetuning-models')\n",
    "\n",
    "sasho = pickle.load(open(sasho_word_vectors_location, 'rb'))\n",
    "utah = pickle.load(open(utah_word_vectors_location, 'rb'))\n",
    "keys_sasho = [key[0] for key in sasho]\n",
    "keys_utah = [key[0] for key in utah]\n",
    "intersection = list(set(keys_sasho) & set(keys_utah))"
   ]
  },
  {
   "cell_type": "code",
   "execution_count": 2,
   "metadata": {
    "pycharm": {
     "is_executing": false,
     "name": "#%%\n"
    }
   },
   "outputs": [
    {
     "name": "stdout",
     "output_type": "stream",
     "text": [
      "[-0.43093973  0.02270981  0.18791805 ... -0.5942187  -0.11230399\n",
      "  0.5877969 ]\n"
     ]
    }
   ],
   "source": [
    "sasho_vectors_intersecting = []\n",
    "utah_vectors_intersecting = []\n",
    "utah = dict(utah)\n",
    "sasho = dict(sasho)\n",
    "print(utah[\"[CLS]\"])\n",
    "\n",
    "for intersecting_word in intersection:\n",
    "    sasho_vectors_intersecting.append(tuple((intersecting_word, sasho[intersecting_word])))\n",
    "    utah_vectors_intersecting.append(tuple((intersecting_word, utah[intersecting_word])))\n",
    "\n",
    "cosine_distances_with_scipy = []\n",
    "for sa, ut in zip (sasho_vectors_intersecting, utah_vectors_intersecting):\n",
    "    assert sa[0] == ut[0], \"strings from intersection should be the same, something is wrong!\"\n",
    "    cosine_distances_with_scipy.append(tuple((sa[0], cosine(sa[1], ut[1]))))"
   ]
  },
  {
   "cell_type": "code",
   "execution_count": 4,
   "metadata": {
    "pycharm": {
     "is_executing": false,
     "name": "#%%\n"
    }
   },
   "outputs": [
    {
     "name": "stdout",
     "output_type": "stream",
     "text": [
      "Top 10\n",
      "life 0.0\n",
      "terminating 0.0\n",
      "##cycle 0.0\n",
      "remove 0.0009971261024475098\n",
      "young 0.001008152961730957\n",
      "too 0.0010106563568115234\n",
      "status 0.012241601943969727\n",
      "nova 0.013717353343963623\n",
      "##eti 0.01682746410369873\n",
      "\n",
      "Bottom 10\n",
      "on 0.4524269700050354\n",
      "instance 0.45709383487701416\n",
      "the 0.45835477113723755\n",
      "\" 0.4652404189109802\n",
      "##d 0.49717140197753906\n",
      "##m 0.5103933215141296\n",
      "for 0.5324618518352509\n",
      "t 0.6007658839225769\n",
      "' 0.9519659355282784\n"
     ]
    }
   ],
   "source": [
    "cos_scipy_sorted = sorted(cosine_distances_with_scipy, key=lambda tup: tup[1])\n",
    "for i, val in enumerate(cos_scipy_sorted):\n",
    "    # val[0] word, val[1] distance\n",
    "    if i == 0: print(\"Top 10\") \n",
    "    if i == len(cos_scipy_sorted)-10: print(\"\\nBottom 10\")\n",
    "    if 0 < i < 10 or len(cos_scipy_sorted)-10 < i < len(cos_scipy_sorted):\n",
    "        print(\"{} {}\".format(val[0], val[1]))\n",
    "# pickle.dump(cos_scipy_sorted, open(\"cos_distances_for_finetune.pickle\", 'wb'))"
   ]
  },
  {
   "cell_type": "code",
   "execution_count": 5,
   "metadata": {
    "pycharm": {
     "is_executing": false,
     "name": "#%%\n"
    }
   },
   "outputs": [
    {
     "name": "stdout",
     "output_type": "stream",
     "text": [
      "avg distance: 0.22348313039140916\n"
     ]
    }
   ],
   "source": [
    "sum_dist = 0\n",
    "for v in cos_scipy_sorted:\n",
    "    sum_dist += v[1]\n",
    "print(\"avg distance: {}\".format(sum_dist / len(cos_scipy_sorted)))\n"
   ]
  },
  {
   "cell_type": "code",
   "execution_count": 6,
   "metadata": {
    "pycharm": {
     "is_executing": false,
     "name": "#%%\n"
    }
   },
   "outputs": [
    {
     "name": "stdout",
     "output_type": "stream",
     "text": [
      "Pairwise cosine difference between finetune and non-finetune\n",
      "51 positive values-> distance increased with finetuning\n",
      "79 negative values-> distance decreased with finetuning\n",
      "4 no changes\n",
      "sum of all differences (+ improvement - degradation): -0.5508349500596523\n",
      "---------------------\n",
      ". -0.28494852781295776\n",
      "instance -0.2547459006309509\n",
      "for -0.24548062682151794\n",
      "while -0.19624817371368408\n",
      "- -0.1563989520072937\n",
      "< -0.15595674514770508\n",
      "found -0.14557427167892456\n",
      "> -0.14138448238372803\n",
      "sync -0.12947797775268555\n",
      "_ -0.12786436080932617\n",
      "or -0.12340420484542847\n",
      "* -0.11791259050369263\n",
      "power -0.10754024982452393\n",
      "/ -0.10707813501358032\n",
      "the -0.09971559047698975\n",
      "file -0.09708404541015625\n",
      "claim -0.08427786827087402\n",
      "swap -0.08217859268188477\n",
      "during -0.07628178596496582\n",
      "[CLS] -0.057077884674072266\n",
      "server -0.052199602127075195\n",
      "failed -0.04528355598449707\n",
      "successfully -0.045195698738098145\n",
      "host -0.04375791549682617\n",
      "has -0.041618406772613525\n",
      "c -0.03799140453338623\n",
      "network -0.03641319274902344\n",
      "disk -0.036107420921325684\n",
      "use -0.03444373607635498\n",
      "updated -0.03236865997314453\n",
      "##m -0.03130137920379639\n",
      "state -0.030506014823913574\n",
      "unable -0.028474271297454834\n",
      "did -0.027266860008239746\n",
      "error -0.02585071325302124\n",
      "thrown -0.025623202323913574\n",
      "##d -0.025601208209991455\n",
      "b -0.024483144283294678\n",
      "del -0.024225831031799316\n",
      "base -0.024024665355682373\n",
      "manager -0.02289903163909912\n",
      "! -0.02186751365661621\n",
      "var -0.020477116107940674\n",
      "##ing -0.019888639450073242\n",
      "##zing -0.01975095272064209\n",
      "in -0.019274532794952393\n",
      "[SEP] -0.019223570823669434\n",
      "##type -0.019108474254608154\n",
      "d -0.017971277236938477\n",
      "ph -0.017602384090423584\n",
      "tc -0.01678478717803955\n",
      "default -0.014691531658172607\n",
      "' -0.014451112598180771\n",
      "took -0.01316612958908081\n",
      "gb -0.012963712215423584\n",
      "mb -0.010213315486907959\n",
      "nova -0.009888648986816406\n",
      "is -0.009709715843200684\n",
      ": -0.008964598178863525\n",
      "re -0.008109509944915771\n",
      "##cate -0.007915318012237549\n",
      "created -0.00788736343383789\n",
      "seconds -0.006966769695281982\n",
      "its -0.006892383098602295\n",
      "this -0.006848752498626709\n",
      "##lo -0.00624161958694458\n",
      "fetch -0.006072044372558594\n",
      "service -0.005218684673309326\n",
      "deal -0.004886329174041748\n",
      "##on -0.0033434629440307617\n",
      "image -0.0031657814979553223\n",
      "##list -0.002095639705657959\n",
      "e -0.0019208192825317383\n",
      "supported -0.001359105110168457\n",
      "memory -0.0010410547256469727\n",
      "of -0.0010008811950683594\n",
      "exception -0.0002982020378112793\n",
      "remove -0.00020509958267211914\n",
      "complete -8.827447891235352e-05\n",
      "build 0.0\n",
      "life 0.0\n",
      "terminating 0.0\n",
      "##cycle 0.0\n",
      "too 8.988380432128906e-05\n",
      "##v 0.002250850200653076\n",
      "available 0.004819273948669434\n",
      "young 0.005270183086395264\n",
      "token 0.006782412528991699\n",
      "##ys 0.007345139980316162\n",
      "li 0.009572446346282959\n",
      "any 0.009851932525634766\n",
      "match 0.01045900583267212\n",
      "name 0.01075667142868042\n",
      "to 0.012885093688964844\n",
      "domain 0.013064682483673096\n",
      "id 0.016990721225738525\n",
      "valid 0.018148422241210938\n",
      "compute 0.01822441816329956\n",
      "##i 0.01843160390853882\n",
      "not 0.02137744426727295\n",
      "running 0.02190232276916504\n",
      "http 0.025020360946655273\n",
      "v 0.025309085845947266\n",
      "specified 0.026239991188049316\n",
      "on 0.02735161781311035\n",
      "time 0.02864086627960205\n",
      "da 0.03590977191925049\n",
      "from 0.038704633712768555\n",
      "status 0.039045870304107666\n",
      "node 0.04062730073928833\n",
      "##oni 0.04265111684799194\n",
      "len 0.04447674751281738\n",
      "t 0.044584959745407104\n",
      "run 0.04761075973510742\n",
      "database 0.04764443635940552\n",
      "event 0.04880833625793457\n",
      "dd 0.05978858470916748\n",
      "fe 0.06476366519927979\n",
      "##ed 0.06517994403839111\n",
      "local 0.066062331199646\n",
      "at 0.06746572256088257\n",
      "pending 0.073763906955719\n",
      "instances 0.09177714586257935\n",
      "count 0.09599536657333374\n",
      "creating 0.10458368062973022\n",
      "\" 0.10853147506713867\n",
      "##hr 0.1101144552230835\n",
      "##b 0.11479616165161133\n",
      "attempting 0.12175363302230835\n",
      "f 0.1429850161075592\n",
      "( 0.14685839414596558\n",
      "##eti 0.29439491033554077\n",
      ") 0.32691946625709534\n",
      "a 0.4764048159122467\n"
     ]
    }
   ],
   "source": [
    "cos_scipy_sorted_finetune = pickle.load(open(\"cos_distances_for_finetune.pickle\", 'rb'))\n",
    "cos_scipy_sorted_finetune = dict(cos_scipy_sorted_finetune)\n",
    "assert type(cos_scipy_sorted_finetune) == dict\n",
    "\n",
    "\n",
    "differences_list = []\n",
    "number_of_increases = 0\n",
    "number_of_decreases = 0\n",
    "overall_difference = 0\n",
    "no_changes = 0\n",
    "for word, no_finetune_distance in cos_scipy_sorted:\n",
    "    finetune_distance = cos_scipy_sorted_finetune.get(word)\n",
    "    difference = finetune_distance - no_finetune_distance\n",
    "    differences_list.append(tuple((word, difference)))\n",
    "    overall_difference += difference\n",
    "    if difference < 0:\n",
    "        number_of_decreases += 1\n",
    "    elif difference > 0:\n",
    "        number_of_increases += 1\n",
    "    else:\n",
    "       no_changes += 1 \n",
    "\n",
    "print(\"Pairwise cosine difference between finetune and non-finetune\")\n",
    "print(\"{} positive values-> distance increased with finetuning\".format(number_of_increases))\n",
    "print(\"{} negative values-> distance decreased with finetuning\".format(number_of_decreases))\n",
    "print(\"{} no changes\".format(no_changes))\n",
    "print(\"sum of all differences (+ improvement - degradation): {}\\n---------------------\".format(overall_difference))\n",
    "\n",
    "      \n",
    "differences_list_sorted = sorted(differences_list, key=lambda tup: tup[1])\n",
    "\n",
    "for word, val in differences_list_sorted:\n",
    "    print(\"{} {}\".format(word, val))\n"
   ]
  },
  {
   "cell_type": "code",
   "execution_count": null,
   "metadata": {
    "pycharm": {
     "name": "#%%\n"
    }
   },
   "outputs": [],
   "source": [
    "import plotly.graph_objects as go\n",
    "\n",
    "fig = go.Figure(data=go.Heatmap(\n",
    "                    z=cosine_distances))\n",
    "fig.show()\n",
    "\n"
   ]
  }
 ],
 "metadata": {
  "kernelspec": {
   "display_name": "Python 3",
   "language": "python",
   "name": "python3"
  },
  "language_info": {
   "codemirror_mode": {
    "name": "ipython",
    "version": 3
   },
   "file_extension": ".py",
   "mimetype": "text/x-python",
   "name": "python",
   "nbconvert_exporter": "python",
   "pygments_lexer": "ipython3",
   "version": "3.7.6"
  },
  "pycharm": {
   "stem_cell": {
    "cell_type": "raw",
    "metadata": {
     "collapsed": false
    },
    "source": []
   }
  }
 },
 "nbformat": 4,
 "nbformat_minor": 1
}
