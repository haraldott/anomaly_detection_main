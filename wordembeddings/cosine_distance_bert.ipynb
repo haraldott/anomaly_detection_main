{
 "cells": [
  {
   "cell_type": "code",
   "execution_count": 1,
   "outputs": [],
   "source": [
    "import pickle\n",
    "from scipy.spatial.distance import cosine\n",
    "\n",
    "sasho = pickle.load(open('sasho_bert_vectors_for_cosine.pickle', 'rb'))\n",
    "utah = pickle.load(open('utah_bert_vectors_for_cosine.pickle', 'rb'))\n",
    "keys_sasho = [key[0] for key in sasho]\n",
    "keys_utah = [key[0] for key in utah]\n",
    "intersection = list(set(keys_sasho) & set(keys_utah))"
   ],
   "metadata": {
    "collapsed": false,
    "pycharm": {
     "name": "#%%\n",
     "is_executing": false
    }
   }
  },
  {
   "cell_type": "code",
   "execution_count": 7,
   "outputs": [
    {
     "name": "stdout",
     "text": [
      "[-0.43093973  0.02270981  0.18791805 ... -0.5942187  -0.11230399\n  0.5877969 ]\n"
     ],
     "output_type": "stream"
    }
   ],
   "source": [
    "sasho_vectors_intersecting = []\n",
    "utah_vectors_intersecting = []\n",
    "utah = dict(utah)\n",
    "sasho = dict(sasho)\n",
    "print(utah[\"[CLS]\"])\n",
    "\n",
    "for intersecting_word in intersection:\n",
    "    sasho_vectors_intersecting.append(tuple((intersecting_word, sasho[intersecting_word])))\n",
    "    utah_vectors_intersecting.append(tuple((intersecting_word, utah[intersecting_word])))\n",
    "\n",
    "cosine_distances_with_scipy = []\n",
    "for sa, ut in zip (sasho_vectors_intersecting, utah_vectors_intersecting):\n",
    "    assert sa[0] == ut[0], \"strings from intersection should be the same, something is wrong!\"\n",
    "    cosine_distances_with_scipy.append(tuple((sa[0], cosine(sa[1], ut[1]))))"
   ],
   "metadata": {
    "collapsed": false,
    "pycharm": {
     "name": "#%%\n",
     "is_executing": false
    }
   }
  },
  {
   "cell_type": "code",
   "execution_count": 12,
   "outputs": [
    {
     "name": "stdout",
     "text": [
      "Top 10\nterminating 0.0\nlife 0.0\n##cycle 0.0\nremove 0.0009971261024475098\nyoung 0.001008152961730957\ntoo 0.0010106563568115234\nstatus 0.012241601943969727\nnova 0.013717353343963623\n##eti 0.01682746410369873\n\nBottom 10\non 0.4524269700050354\ninstance 0.45709383487701416\nthe 0.45835477113723755\n\" 0.4652404189109802\n##d 0.49717140197753906\n##m 0.5103933215141296\nfor 0.5324618518352509\nt 0.6007658839225769\n' 0.9519659355282784\n"
     ],
     "output_type": "stream"
    }
   ],
   "source": [
    "cos_scipy_sorted = sorted(cosine_distances_with_scipy, key=lambda tup: tup[1])\n",
    "for i, val in enumerate(cos_scipy_sorted):\n",
    "    if i == 0: print(\"Top 10\") \n",
    "    if i == len(cos_scipy_sorted)-10: print(\"\\nBottom 10\")\n",
    "    if 0 < i < 10 or len(cos_scipy_sorted)-10 < i < len(cos_scipy_sorted):\n",
    "        print(\"{} {}\".format(val[0], val[1]))\n",
    "    "
   ],
   "metadata": {
    "collapsed": false,
    "pycharm": {
     "name": "#%%\n",
     "is_executing": false
    }
   }
  },
  {
   "cell_type": "code",
   "execution_count": 6,
   "outputs": [
    {
     "name": "stdout",
     "text": [
      "['thrown', 'len', 'to', 'its', 'dd', '!', '##hr', 'this', '_', '##lo', 'swap', 'sync', 'default', 'error', 'id', 'local', 'compute', 'node', 'instance', 'from', 'power', 'specified', '/', 'li', 't', '##type', '##b', 'the', 'host', '##list', '##eti', 'not', 'in', '<', 'database', 'count', '##v', 'disk', 'memory', 'e', 'manager', '-', 'build', 'remove', 'at', 'file', 'status', 'has', '##ys', 'valid', 'time', '\"', 'domain', 'terminating', 'image', 'of', 'complete', 'is', 'server', 'updated', 'pending', 'mb', 're', 'during', 'base', 'f', 'any', 'event', 'took', 'running', 'd', '(', '##cate', 'or', 'nova', ':', 'instances', 'run', '[SEP]', 'c', 'token', 'da', 'state', 'ph', '##ed', 'b', 'did', 'network', 'del', 'deal', 'supported', '>', '##m', 'exception', '##on', 'young', '##zing', 'unable', 'v', 'life', 'on', 'var', 'created', 'fe', '##oni', 'gb', 'failed', \"'\", '##cycle', 'available', ')', '##d', 'attempting', '##i', '##ing', 'service', 'http', '.', 'a', 'fetch', 'while', 'match', 'claim', 'successfully', 'found', 'name', 'for', 'too', '*', 'creating', 'seconds', 'use', '[CLS]', 'tc']\n134\ntc\n"
     ],
     "output_type": "stream"
    }
   ],
   "source": [],
   "metadata": {
    "collapsed": false,
    "pycharm": {
     "name": "#%%\n",
     "is_executing": false
    }
   }
  }
 ],
 "metadata": {
  "kernelspec": {
   "display_name": "Python 3",
   "language": "python",
   "name": "python3"
  },
  "language_info": {
   "codemirror_mode": {
    "name": "ipython",
    "version": 2
   },
   "file_extension": ".py",
   "mimetype": "text/x-python",
   "name": "python",
   "nbconvert_exporter": "python",
   "pygments_lexer": "ipython2",
   "version": "2.7.6"
  },
  "pycharm": {
   "stem_cell": {
    "cell_type": "raw",
    "source": [],
    "metadata": {
     "collapsed": false
    }
   }
  }
 },
 "nbformat": 4,
 "nbformat_minor": 0
}