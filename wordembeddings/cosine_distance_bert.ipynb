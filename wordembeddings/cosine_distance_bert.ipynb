{
 "cells": [
  {
   "cell_type": "code",
   "execution_count": 1,
   "outputs": [],
   "source": [
    "import pickle\n",
    "from scipy.spatial.distance import cosine\n",
    "from wordembeddings.transform_bert import dump_word_vectors\n",
    "\n",
    "sasho_word_vectors_location = 'vectors_for_cosine_distance/sasho_bert_vectors_for_cosine.pickle'\n",
    "utah_word_vectors_location = 'vectors_for_cosine_distance/utah_bert_vectors_for_cosine.pickle'\n",
    "\n",
    "dump_word_vectors(templates_location='../data/openstack/sasho/parsed/logs_aggregated_full.csv_templates',\n",
    "                  word_embeddings_location=sasho_word_vectors_location,\n",
    "                  bert_model='finetuning-models')\n",
    "dump_word_vectors(templates_location='../data/openstack/utah/parsed/openstack_18k_plus_52k_merged_templates',\n",
    "                  word_embeddings_location=utah_word_vectors_location,\n",
    "                  bert_model='finetuning-models')\n",
    "\n",
    "sasho = pickle.load(open(sasho_word_vectors_location, 'rb'))\n",
    "utah = pickle.load(open(utah_word_vectors_location, 'rb'))\n",
    "keys_sasho = [key[0] for key in sasho]\n",
    "keys_utah = [key[0] for key in utah]\n",
    "intersection = list(set(keys_sasho) & set(keys_utah))"
   ],
   "metadata": {
    "collapsed": false,
    "pycharm": {
     "name": "#%%\n",
     "is_executing": false
    }
   }
  },
  {
   "cell_type": "code",
   "execution_count": 2,
   "outputs": [
    {
     "name": "stdout",
     "text": [
      "[-0.43093973  0.02270981  0.18791805 ... -0.5942187  -0.11230399\n  0.5877969 ]\n"
     ],
     "output_type": "stream"
    }
   ],
   "source": [
    "sasho_vectors_intersecting = []\n",
    "utah_vectors_intersecting = []\n",
    "utah = dict(utah)\n",
    "sasho = dict(sasho)\n",
    "print(utah[\"[CLS]\"])\n",
    "\n",
    "for intersecting_word in intersection:\n",
    "    sasho_vectors_intersecting.append(tuple((intersecting_word, sasho[intersecting_word])))\n",
    "    utah_vectors_intersecting.append(tuple((intersecting_word, utah[intersecting_word])))\n",
    "\n",
    "cosine_distances_with_scipy = []\n",
    "for sa, ut in zip (sasho_vectors_intersecting, utah_vectors_intersecting):\n",
    "    assert sa[0] == ut[0], \"strings from intersection should be the same, something is wrong!\"\n",
    "    cosine_distances_with_scipy.append(tuple((sa[0], cosine(sa[1], ut[1]))))"
   ],
   "metadata": {
    "collapsed": false,
    "pycharm": {
     "name": "#%%\n",
     "is_executing": false
    }
   }
  },
  {
   "cell_type": "code",
   "execution_count": 4,
   "outputs": [
    {
     "name": "stdout",
     "text": [
      "Top 10\nlife 0.0\nterminating 0.0\n##cycle 0.0\nremove 0.0009971261024475098\nyoung 0.001008152961730957\ntoo 0.0010106563568115234\nstatus 0.012241601943969727\nnova 0.013717353343963623\n##eti 0.01682746410369873\n\nBottom 10\non 0.4524269700050354\ninstance 0.45709383487701416\nthe 0.45835477113723755\n\" 0.4652404189109802\n##d 0.49717140197753906\n##m 0.5103933215141296\nfor 0.5324618518352509\nt 0.6007658839225769\n' 0.9519659355282784\n"
     ],
     "output_type": "stream"
    }
   ],
   "source": [
    "cos_scipy_sorted = sorted(cosine_distances_with_scipy, key=lambda tup: tup[1])\n",
    "for i, val in enumerate(cos_scipy_sorted):\n",
    "    # val[0] word, val[1] distance\n",
    "    if i == 0: print(\"Top 10\") \n",
    "    if i == len(cos_scipy_sorted)-10: print(\"\\nBottom 10\")\n",
    "    if 0 < i < 10 or len(cos_scipy_sorted)-10 < i < len(cos_scipy_sorted):\n",
    "        print(\"{} {}\".format(val[0], val[1]))\n",
    "# pickle.dump(cos_scipy_sorted, open(\"cos_distances_for_finetune.pickle\", 'wb'))"
   ],
   "metadata": {
    "collapsed": false,
    "pycharm": {
     "name": "#%%\n",
     "is_executing": false
    }
   }
  },
  {
   "cell_type": "code",
   "execution_count": 5,
   "outputs": [
    {
     "name": "stdout",
     "text": [
      "avg distance: 0.22348313039140916\n"
     ],
     "output_type": "stream"
    }
   ],
   "source": [
    "sum_dist = 0\n",
    "for v in cos_scipy_sorted:\n",
    "    sum_dist += v[1]\n",
    "print(\"avg distance: {}\".format(sum_dist / len(cos_scipy_sorted)))\n"
   ],
   "metadata": {
    "collapsed": false,
    "pycharm": {
     "name": "#%%\n",
     "is_executing": false
    }
   }
  },
  {
   "cell_type": "code",
   "execution_count": 6,
   "outputs": [
    {
     "name": "stdout",
     "text": [
      "Pairwise cosine difference between finetune and non-finetune\n51 positive values-> distance increased with finetuning\n79 negative values-> distance decreased with finetuning\n4 no changes\nsum of all differences (+ improvement - degradation): -0.5508349500596523\n---------------------\n. -0.28494852781295776\ninstance -0.2547459006309509\nfor -0.24548062682151794\nwhile -0.19624817371368408\n- -0.1563989520072937\n< -0.15595674514770508\nfound -0.14557427167892456\n> -0.14138448238372803\nsync -0.12947797775268555\n_ -0.12786436080932617\nor -0.12340420484542847\n* -0.11791259050369263\npower -0.10754024982452393\n/ -0.10707813501358032\nthe -0.09971559047698975\nfile -0.09708404541015625\nclaim -0.08427786827087402\nswap -0.08217859268188477\nduring -0.07628178596496582\n[CLS] -0.057077884674072266\nserver -0.052199602127075195\nfailed -0.04528355598449707\nsuccessfully -0.045195698738098145\nhost -0.04375791549682617\nhas -0.041618406772613525\nc -0.03799140453338623\nnetwork -0.03641319274902344\ndisk -0.036107420921325684\nuse -0.03444373607635498\nupdated -0.03236865997314453\n##m -0.03130137920379639\nstate -0.030506014823913574\nunable -0.028474271297454834\ndid -0.027266860008239746\nerror -0.02585071325302124\nthrown -0.025623202323913574\n##d -0.025601208209991455\nb -0.024483144283294678\ndel -0.024225831031799316\nbase -0.024024665355682373\nmanager -0.02289903163909912\n! -0.02186751365661621\nvar -0.020477116107940674\n##ing -0.019888639450073242\n##zing -0.01975095272064209\nin -0.019274532794952393\n[SEP] -0.019223570823669434\n##type -0.019108474254608154\nd -0.017971277236938477\nph -0.017602384090423584\ntc -0.01678478717803955\ndefault -0.014691531658172607\n' -0.014451112598180771\ntook -0.01316612958908081\ngb -0.012963712215423584\nmb -0.010213315486907959\nnova -0.009888648986816406\nis -0.009709715843200684\n: -0.008964598178863525\nre -0.008109509944915771\n##cate -0.007915318012237549\ncreated -0.00788736343383789\nseconds -0.006966769695281982\nits -0.006892383098602295\nthis -0.006848752498626709\n##lo -0.00624161958694458\nfetch -0.006072044372558594\nservice -0.005218684673309326\ndeal -0.004886329174041748\n##on -0.0033434629440307617\nimage -0.0031657814979553223\n##list -0.002095639705657959\ne -0.0019208192825317383\nsupported -0.001359105110168457\nmemory -0.0010410547256469727\nof -0.0010008811950683594\nexception -0.0002982020378112793\nremove -0.00020509958267211914\ncomplete -8.827447891235352e-05\nbuild 0.0\nlife 0.0\nterminating 0.0\n##cycle 0.0\ntoo 8.988380432128906e-05\n##v 0.002250850200653076\navailable 0.004819273948669434\nyoung 0.005270183086395264\ntoken 0.006782412528991699\n##ys 0.007345139980316162\nli 0.009572446346282959\nany 0.009851932525634766\nmatch 0.01045900583267212\nname 0.01075667142868042\nto 0.012885093688964844\ndomain 0.013064682483673096\nid 0.016990721225738525\nvalid 0.018148422241210938\ncompute 0.01822441816329956\n##i 0.01843160390853882\nnot 0.02137744426727295\nrunning 0.02190232276916504\nhttp 0.025020360946655273\nv 0.025309085845947266\nspecified 0.026239991188049316\non 0.02735161781311035\ntime 0.02864086627960205\nda 0.03590977191925049\nfrom 0.038704633712768555\nstatus 0.039045870304107666\nnode 0.04062730073928833\n##oni 0.04265111684799194\nlen 0.04447674751281738\nt 0.044584959745407104\nrun 0.04761075973510742\ndatabase 0.04764443635940552\nevent 0.04880833625793457\ndd 0.05978858470916748\nfe 0.06476366519927979\n##ed 0.06517994403839111\nlocal 0.066062331199646\nat 0.06746572256088257\npending 0.073763906955719\ninstances 0.09177714586257935\ncount 0.09599536657333374\ncreating 0.10458368062973022\n\" 0.10853147506713867\n##hr 0.1101144552230835\n##b 0.11479616165161133\nattempting 0.12175363302230835\nf 0.1429850161075592\n( 0.14685839414596558\n##eti 0.29439491033554077\n) 0.32691946625709534\na 0.4764048159122467\n"
     ],
     "output_type": "stream"
    }
   ],
   "source": [
    "cos_scipy_sorted_finetune = pickle.load(open(\"cos_distances_for_finetune.pickle\", 'rb'))\n",
    "cos_scipy_sorted_finetune = dict(cos_scipy_sorted_finetune)\n",
    "assert type(cos_scipy_sorted_finetune) == dict\n",
    "\n",
    "\n",
    "differences_list = []\n",
    "number_of_increases = 0\n",
    "number_of_decreases = 0\n",
    "overall_difference = 0\n",
    "no_changes = 0\n",
    "for word, no_finetune_distance in cos_scipy_sorted:\n",
    "    finetune_distance = cos_scipy_sorted_finetune.get(word)\n",
    "    difference = finetune_distance - no_finetune_distance\n",
    "    differences_list.append(tuple((word, difference)))\n",
    "    overall_difference += difference\n",
    "    if difference < 0:\n",
    "        number_of_decreases += 1\n",
    "    elif difference > 0:\n",
    "        number_of_increases += 1\n",
    "    else:\n",
    "       no_changes += 1 \n",
    "\n",
    "print(\"Pairwise cosine difference between finetune and non-finetune\")\n",
    "print(\"{} positive values-> distance increased with finetuning\".format(number_of_increases))\n",
    "print(\"{} negative values-> distance decreased with finetuning\".format(number_of_decreases))\n",
    "print(\"{} no changes\".format(no_changes))\n",
    "print(\"sum of all differences (+ improvement - degradation): {}\\n---------------------\".format(overall_difference))\n",
    "\n",
    "      \n",
    "differences_list_sorted = sorted(differences_list, key=lambda tup: tup[1])\n",
    "\n",
    "for word, val in differences_list_sorted:\n",
    "    print(\"{} {}\".format(word, val))\n"
   ],
   "metadata": {
    "collapsed": false,
    "pycharm": {
     "name": "#%%\n",
     "is_executing": false
    }
   }
  },
  {
   "cell_type": "code",
   "execution_count": null,
   "outputs": [],
   "source": [
    "import plotly.graph_objects as go\n",
    "\n",
    "fig = go.Figure(data=go.Heatmap(\n",
    "                    z=cosine_distances))\n",
    "fig.show()\n",
    "\n"
   ],
   "metadata": {
    "collapsed": false,
    "pycharm": {
     "name": "#%%\n"
    }
   }
  }
 ],
 "metadata": {
  "kernelspec": {
   "display_name": "Python 3",
   "language": "python",
   "name": "python3"
  },
  "language_info": {
   "codemirror_mode": {
    "name": "ipython",
    "version": 2
   },
   "file_extension": ".py",
   "mimetype": "text/x-python",
   "name": "python",
   "nbconvert_exporter": "python",
   "pygments_lexer": "ipython2",
   "version": "2.7.6"
  },
  "pycharm": {
   "stem_cell": {
    "cell_type": "raw",
    "source": [],
    "metadata": {
     "collapsed": false
    }
   }
  }
 },
 "nbformat": 4,
 "nbformat_minor": 0
}