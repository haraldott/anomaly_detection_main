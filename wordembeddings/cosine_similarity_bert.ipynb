{
 "cells": [
  {
   "cell_type": "code",
   "execution_count": 5,
   "outputs": [],
   "source": [
    "import pickle\n",
    "from numpy import dot\n",
    "from numpy.linalg import norm\n",
    "\n",
    "sasho = pickle.load(open('sasho_bert_vectors_for_cosine.pickle', 'rb'))\n",
    "utah = pickle.load(open('utah_bert_vectors_for_cosine.pickle', 'rb'))\n",
    "keys_sasho = [key[0] for key in sasho]\n",
    "keys_utah = [key[0] for key in utah]\n",
    "intersection = list(set(keys_sasho) & set(keys_utah))"
   ],
   "metadata": {
    "collapsed": false,
    "pycharm": {
     "name": "#%%\n",
     "is_executing": false
    }
   }
  },
  {
   "cell_type": "code",
   "execution_count": 9,
   "outputs": [
    {
     "name": "stdout",
     "text": [
      "[-0.43093973  0.02270981  0.18791805 ... -0.5942187  -0.11230399\n  0.5877969 ]\n"
     ],
     "output_type": "stream"
    }
   ],
   "source": [
    "sasho_vectors_intersecting = []\n",
    "utah_vectors_intersecting = []\n",
    "utah = dict(utah)\n",
    "sasho = dict(sasho)\n",
    "print(utah[\"[CLS]\"])\n",
    "\n",
    "for intersecting_word in intersection:\n",
    "    sasho_vectors_intersecting.append(tuple((intersecting_word, sasho[intersecting_word])))\n",
    "    utah_vectors_intersecting.append(tuple((intersecting_word, utah[intersecting_word])))\n",
    "\n",
    "cosine_distances = []\n",
    "for sa, ut in zip (sasho_vectors_intersecting, utah_vectors_intersecting):\n",
    "    assert sa[0] == ut[0], \"strings from intersection should be the same, something is wrong!\"\n",
    "    cos_sim = dot(sa[1], ut[1]) / (norm(sa[1])*norm(ut[1]))\n",
    "    cosine_distances.append(tuple((sa[0], cos_sim)))"
   ],
   "metadata": {
    "collapsed": false,
    "pycharm": {
     "name": "#%%\n",
     "is_executing": false
    }
   }
  },
  {
   "cell_type": "code",
   "execution_count": 11,
   "outputs": [],
   "source": [
    "cosines_sorted = sorted(cosine_distances, key=lambda tup: tup[1])"
   ],
   "metadata": {
    "collapsed": false,
    "pycharm": {
     "name": "#%%\n",
     "is_executing": false
    }
   }
  }
 ],
 "metadata": {
  "kernelspec": {
   "display_name": "Python 3",
   "language": "python",
   "name": "python3"
  },
  "language_info": {
   "codemirror_mode": {
    "name": "ipython",
    "version": 2
   },
   "file_extension": ".py",
   "mimetype": "text/x-python",
   "name": "python",
   "nbconvert_exporter": "python",
   "pygments_lexer": "ipython2",
   "version": "2.7.6"
  },
  "pycharm": {
   "stem_cell": {
    "cell_type": "raw",
    "source": [],
    "metadata": {
     "collapsed": false
    }
   }
  }
 },
 "nbformat": 4,
 "nbformat_minor": 0
}